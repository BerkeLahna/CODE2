{
 "cells": [
  {
   "cell_type": "code",
   "execution_count": 1,
   "metadata": {},
   "outputs": [
    {
     "name": "stdout",
     "output_type": "stream",
     "text": [
      "pygame 2.5.2 (SDL 2.28.3, Python 3.11.9)\n",
      "Hello from the pygame community. https://www.pygame.org/contribute.html\n"
     ]
    }
   ],
   "source": [
    "import pygame\n",
    "from pygame.locals import *\n",
    "import sys\n",
    "\n",
    "# Initialize Pygame\n",
    "pygame.init()\n",
    "\n",
    "# Set up the screen\n",
    "WIDTH, HEIGHT = 800, 600\n",
    "screen = pygame.display.set_mode((WIDTH, HEIGHT))\n",
    "pygame.display.set_caption(\"Dynamic Pygame GUI\")\n",
    "\n",
    "# Font\n",
    "font = pygame.font.Font(None, 36)\n",
    "\n",
    "# Function to create a button\n",
    "def create_button(x, y, width, height, text):\n",
    "    button_surface = pygame.Surface((width, height))\n",
    "    button_rect = button_surface.get_rect()\n",
    "    button_rect.topleft = (x, y)\n",
    "    \n",
    "    # Render text on the button\n",
    "    button_text = font.render(text, True, (0, 0, 0))\n",
    "    text_rect = button_text.get_rect(center=button_rect.center)\n",
    "    \n",
    "    # Draw button background\n",
    "    button_surface.fill((200, 200, 200))\n",
    "    \n",
    "    # Draw button border\n",
    "    pygame.draw.rect(button_surface, (0, 0, 0), button_rect, 2)\n",
    "    \n",
    "    # Blit text on button\n",
    "    button_surface.blit(button_text, text_rect)\n",
    "    \n",
    "    return button_surface, button_rect\n",
    "\n",
    "# List to hold buttons\n",
    "buttons = [create_button(50, 50, 200, 50, \"Button 1\"),\n",
    "           create_button(50, 150, 200, 50, \"Button 2\"),\n",
    "           create_button(50, 150, 200, 50, \"Button 3\")]\n",
    "\n",
    "# Main loop\n",
    "running = True\n",
    "while running:\n",
    "    screen.fill((255, 255, 255))\n",
    "    \n",
    "    # Handle events\n",
    "    for event in pygame.event.get():\n",
    "        if event.type == pygame.QUIT:\n",
    "            running = False\n",
    "\n",
    "    # Draw buttons\n",
    "    for button, rect in buttons:\n",
    "        screen.blit(button, rect)\n",
    "    \n",
    "    pygame.display.flip()\n",
    "\n",
    "# Quit Pygame\n",
    "pygame.quit()\n",
    "sys.exit()\n"
   ]
  }
 ],
 "metadata": {
  "kernelspec": {
   "display_name": "Python 3",
   "language": "python",
   "name": "python3"
  },
  "language_info": {
   "codemirror_mode": {
    "name": "ipython",
    "version": 3
   },
   "file_extension": ".py",
   "mimetype": "text/x-python",
   "name": "python",
   "nbconvert_exporter": "python",
   "pygments_lexer": "ipython3",
   "version": "3.11.9"
  }
 },
 "nbformat": 4,
 "nbformat_minor": 2
}
